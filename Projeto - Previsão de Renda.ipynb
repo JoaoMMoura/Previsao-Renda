{
 "cells": [
  {
   "cell_type": "markdown",
   "metadata": {},
   "source": [
    "# Previsão de renda"
   ]
  },
  {
   "cell_type": "markdown",
   "metadata": {},
   "source": [
    "### 4 elementos importantes\n",
    "- Esse notebook\n",
    "- Streamlit com as análises\n",
    "- Seu Github com o projeto\n",
    "- Vídeo no readme do github mostrando o streamlit"
   ]
  },
  {
   "cell_type": "markdown",
   "metadata": {},
   "source": [
    "## Etapa 1 CRISP - DM: Entendimento do negócio\n",
    "\n",
    "<span style=\"color:black\">Neste projeto, iremos desenvolver um modelo de previsão de renda, usando dados como posse de veículo, imóvel, quantidade de filhos, tipo de renda, educação e entre outras. Todos os passos tomados estará explicitado nesse notebook e construiremos a visualização no streamlit.</span>\n"
   ]
  },
  {
   "cell_type": "markdown",
   "metadata": {},
   "source": [
    "## Etapa 2 Crisp-DM: Entendimento dos dados\n",
    "<span style=\"color:black\">Abaixo segue uma tabela dos dados com nome, descrição e tipo.</span>\n",
    "\n",
    "\n",
    "### Dicionário de dados\n",
    "\n",
    "<span style=\"color:black\">Vamos analisar brevemente os tipos para depois adequar para construirmos o modelo.</span>\n",
    "\n",
    "\n",
    "| Variável                | Descrição                                           | Tipo         |\n",
    "| ----------------------- |:---------------------------------------------------:| ------------:|\n",
    "| data_ref                |  Data de Referência                                      | datetime|\n",
    "| id_cliente              |  ID Único                                      | int64|\n",
    "| sexo                    |  Masculino ou Feminino                                      |Booleano|\n",
    "| posse_de_veiculo        |  Se possuí ou não veículo                                      | Booleano|\n",
    "| posse_de_imovel         |  Se possuí ou não imóvel                                      | Booleano|\n",
    "| qtd_filhos              |  Quantidade de Filhos                                      | int64|\n",
    "| tipo_renda              |  Tipo de renda                                      | object|\n",
    "| educacao                |  Educação atual                                      | object|\n",
    "| estado_civil            |  Estado Civil                                      | object|\n",
    "| tipo_residencia         |  Tipo da Residência                                      | object|\n",
    "| idade                   |  Idade                                      | int64|\n",
    "| tempo_emprego           |  Tempo de emprego                                      | int64|\n",
    "| qt_pessoas_residencia   |  Quantidade de pessoas que moram na residência                                    | int64|\n",
    "| renda                   |  Valor da renda                                      | float64|\n",
    "\n",
    "\n",
    "\n"
   ]
  },
  {
   "cell_type": "markdown",
   "metadata": {},
   "source": [
    "#### Carregando os pacotes\n",
    "É considerado uma boa prática carregar os pacotes que serão utilizados como a primeira coisa do programa."
   ]
  },
  {
   "cell_type": "code",
   "execution_count": 1,
   "metadata": {},
   "outputs": [],
   "source": [
    "import pandas as pd\n",
    "import seaborn as sns\n",
    "import matplotlib.pyplot as plt\n",
    "%matplotlib inline\n",
    "import ydata_profiling"
   ]
  },
  {
   "cell_type": "markdown",
   "metadata": {},
   "source": [
    "#### Carregando os dados\n",
    "O comando pd.read_csv é um comando da biblioteca pandas (pd.) e carrega os dados do arquivo csv indicado para um objeto *dataframe* do pandas."
   ]
  },
  {
   "cell_type": "code",
   "execution_count": 2,
   "metadata": {},
   "outputs": [],
   "source": [
    "renda = pd.read_csv('./input/previsao_de_renda.csv')"
   ]
  },
  {
   "cell_type": "markdown",
   "metadata": {},
   "source": [
    "#### Entendimento dos dados - Univariada\n",
    "Nesta etapa tipicamente avaliamos a distribuição de todas as variáveis. "
   ]
  },
  {
   "cell_type": "code",
   "execution_count": 3,
   "metadata": {},
   "outputs": [
    {
     "data": {
      "text/plain": [
       "<seaborn.axisgrid.FacetGrid at 0x2684566c340>"
      ]
     },
     "execution_count": 3,
     "metadata": {},
     "output_type": "execute_result"
    },
    {
     "data": {
      "image/png": "[encoded data removed]",
      "text/plain": [
       "<Figure size 360x360 with 1 Axes>"
      ]
     },
     "metadata": {
      "needs_background": "light"
     },
     "output_type": "display_data"
    }
   ],
   "source": [
    "sns.displot(data = renda[renda['renda']<15000]\n",
    "            ,alpha = .25\n",
    "            ,x = 'renda'\n",
    "            ,bins = 20\n",
    "            ,element = 'step'\n",
    "            ,kde = True\n",
    "           )"
   ]
  },
  {
   "cell_type": "code",
   "execution_count": 4,
   "metadata": {},
   "outputs": [
    {
     "data": {
      "text/plain": [
       "<AxesSubplot:ylabel='tempo_emprego'>"
      ]
     },
     "execution_count": 4,
     "metadata": {},
     "output_type": "execute_result"
    },
    {
     "data": {
      "image/png": "[encoded data removed]",
      "text/plain": [
       "<Figure size 432x288 with 1 Axes>"
      ]
     },
     "metadata": {
      "needs_background": "light"
     },
     "output_type": "display_data"
    }
   ],
   "source": [
    "sns.boxplot(y=\"tempo_emprego\", data=renda[renda['renda']<15000])"
   ]
  },
  {
   "cell_type": "markdown",
   "metadata": {},
   "source": [
    "O primeiro gráfico nos motra que a maioria das pessoas estão na faixa de 0-6000 de renda, e o tempo de emprego mostra um padrão entre 2-10 anos. "
   ]
  },
  {
   "cell_type": "markdown",
   "metadata": {},
   "source": [
    "### Entendimento dos dados - Bivariadas\n",
    "\n",
    "\n"
   ]
  },
  {
   "cell_type": "markdown",
   "metadata": {},
   "source": [
    "<span style=\"color:black\">Agora vamos analisar a renda por educação, sexo e o tipo da renda</span>\n"
   ]
  },
  {
   "cell_type": "code",
   "execution_count": 5,
   "metadata": {},
   "outputs": [
    {
     "data": {
      "text/plain": [
       "<AxesSubplot:xlabel='educacao', ylabel='renda'>"
      ]
     },
     "execution_count": 5,
     "metadata": {},
     "output_type": "execute_result"
    },
    {
     "data": {
      "image/png": "[encoded data removed]",
      "text/plain": [
       "<Figure size 720x432 with 1 Axes>"
      ]
     },
     "metadata": {
      "needs_background": "light"
     },
     "output_type": "display_data"
    }
   ],
   "source": [
    "fig, ax = plt.subplots(figsize=(10, 6))\n",
    "sns.barplot(x='educacao', y='renda', data=renda)"
   ]
  },
  {
   "cell_type": "code",
   "execution_count": 6,
   "metadata": {},
   "outputs": [
    {
     "data": {
      "text/plain": [
       "<AxesSubplot:xlabel='sexo', ylabel='renda'>"
      ]
     },
     "execution_count": 6,
     "metadata": {},
     "output_type": "execute_result"
    },
    {
     "data": {
      "image/png": "[encoded data removed]",
      "text/plain": [
       "<Figure size 720x432 with 1 Axes>"
      ]
     },
     "metadata": {
      "needs_background": "light"
     },
     "output_type": "display_data"
    }
   ],
   "source": [
    "fig, ax = plt.subplots(figsize=(10, 6))\n",
    "sns.barplot(x='sexo', y='renda', data=renda)"
   ]
  },
  {
   "cell_type": "code",
   "execution_count": 7,
   "metadata": {},
   "outputs": [
    {
     "data": {
      "text/plain": [
       "<AxesSubplot:xlabel='tipo_renda', ylabel='renda'>"
      ]
     },
     "execution_count": 7,
     "metadata": {},
     "output_type": "execute_result"
    },
    {
     "data": {
      "image/png": "[encoded data removed]",
      "text/plain": [
       "<Figure size 720x432 with 1 Axes>"
      ]
     },
     "metadata": {
      "needs_background": "light"
     },
     "output_type": "display_data"
    }
   ],
   "source": [
    "fig, ax = plt.subplots(figsize=(10, 6))\n",
    "sns.barplot(x='tipo_renda', y='renda', data=renda)"
   ]
  },
  {
   "cell_type": "markdown",
   "metadata": {},
   "source": [
    "- O primeiro gráfico nos mostra que não há tanta disparidade assim entre os dados de educação, sendo o de pós-graduação o com menos renda.\n",
    "- O segundo gráfico aponta que a média da renda masculina é relativamente maior que a Feminina.\n",
    "- o terceiro gráfico nos diz que servidor público, assalariado e empresário possuem as maiores rendas, respectivamente."
   ]
  },
  {
   "cell_type": "markdown",
   "metadata": {},
   "source": [
    "## Etapa 3 Crisp-DM: Preparação dos dados\n",
    "Nessa etapa realizamos tipicamente as seguintes operações com os dados:\n",
    "\n",
    " - **seleção**: Já temos os dados selecionados adequadamente?\n",
    " - **limpeza**: Precisaremos identificar e tratar dados faltantes\n",
    " - **construção**: construção de novas variáveis\n",
    " - **integração**: Temos apenas uma fonte de dados, não é necessário integração\n",
    " - **formatação**: Os dados já se encontram em formatos úteis?\n",
    "\n"
   ]
  },
  {
   "cell_type": "markdown",
   "metadata": {},
   "source": [
    "<span style=\"color:red\">ESCREVER AQUI</span>\n"
   ]
  },
  {
   "cell_type": "markdown",
   "metadata": {},
   "source": [
    "Vamos olhar o tipo de dados da nossa base."
   ]
  },
  {
   "cell_type": "code",
   "execution_count": 8,
   "metadata": {},
   "outputs": [
    {
     "name": "stdout",
     "output_type": "stream",
     "text": [
      "<class 'pandas.core.frame.DataFrame'>\n",
      "RangeIndex: 15000 entries, 0 to 14999\n",
      "Data columns (total 15 columns):\n",
      " #   Column                 Non-Null Count  Dtype  \n",
      "---  ------                 --------------  -----  \n",
      " 0   Unnamed: 0             15000 non-null  int64  \n",
      " 1   data_ref               15000 non-null  object \n",
      " 2   id_cliente             15000 non-null  int64  \n",
      " 3   sexo                   15000 non-null  object \n",
      " 4   posse_de_veiculo       15000 non-null  bool   \n",
      " 5   posse_de_imovel        15000 non-null  bool   \n",
      " 6   qtd_filhos             15000 non-null  int64  \n",
      " 7   tipo_renda             15000 non-null  object \n",
      " 8   educacao               15000 non-null  object \n",
      " 9   estado_civil           15000 non-null  object \n",
      " 10  tipo_residencia        15000 non-null  object \n",
      " 11  idade                  15000 non-null  int64  \n",
      " 12  tempo_emprego          12427 non-null  float64\n",
      " 13  qt_pessoas_residencia  15000 non-null  float64\n",
      " 14  renda                  15000 non-null  float64\n",
      "dtypes: bool(2), float64(3), int64(4), object(6)\n",
      "memory usage: 1.5+ MB\n"
     ]
    }
   ],
   "source": [
    "renda.info()"
   ]
  },
  {
   "cell_type": "markdown",
   "metadata": {},
   "source": [
    "Precisamos transformar as variáveis qualitativas em dummies, e organizar as quantitativas.\n",
    "Vamos começar elimando os dados duplicados e os dados faltantes."
   ]
  },
  {
   "cell_type": "code",
   "execution_count": 9,
   "metadata": {},
   "outputs": [],
   "source": [
    "renda.drop_duplicates(inplace=True)\n",
    "renda.dropna(inplace=True)"
   ]
  },
  {
   "cell_type": "markdown",
   "metadata": {},
   "source": [
    "Agora, vamos eliminar as colunas que não serão necessárias."
   ]
  },
  {
   "cell_type": "code",
   "execution_count": 10,
   "metadata": {},
   "outputs": [],
   "source": [
    "renda = renda[['sexo', 'posse_de_veiculo', 'posse_de_imovel', 'qtd_filhos', 'tipo_renda', 'educacao', 'estado_civil', \n",
    "        'tipo_residencia', 'idade', 'tempo_emprego', 'qt_pessoas_residencia', 'renda']]"
   ]
  },
  {
   "cell_type": "markdown",
   "metadata": {},
   "source": [
    "Agora, iremos alterar renda para booleano"
   ]
  },
  {
   "cell_type": "code",
   "execution_count": 11,
   "metadata": {},
   "outputs": [
    {
     "data": {
      "text/html": [
       "<div>\n",
       "<style scoped>\n",
       "    .dataframe tbody tr th:only-of-type {\n",
       "        vertical-align: middle;\n",
       "    }\n",
       "\n",
       "    .dataframe tbody tr th {\n",
       "        vertical-align: top;\n",
       "    }\n",
       "\n",
       "    .dataframe thead th {\n",
       "        text-align: right;\n",
       "    }\n",
       "</style>\n",
       "<table border=\"1\" class=\"dataframe\">\n",
       "  <thead>\n",
       "    <tr style=\"text-align: right;\">\n",
       "      <th></th>\n",
       "      <th>sexo</th>\n",
       "      <th>posse_de_veiculo</th>\n",
       "      <th>posse_de_imovel</th>\n",
       "      <th>qtd_filhos</th>\n",
       "      <th>tipo_renda</th>\n",
       "      <th>educacao</th>\n",
       "      <th>estado_civil</th>\n",
       "      <th>tipo_residencia</th>\n",
       "      <th>idade</th>\n",
       "      <th>tempo_emprego</th>\n",
       "      <th>qt_pessoas_residencia</th>\n",
       "      <th>renda</th>\n",
       "    </tr>\n",
       "  </thead>\n",
       "  <tbody>\n",
       "    <tr>\n",
       "      <th>0</th>\n",
       "      <td>True</td>\n",
       "      <td>False</td>\n",
       "      <td>True</td>\n",
       "      <td>0</td>\n",
       "      <td>Empresário</td>\n",
       "      <td>Secundário</td>\n",
       "      <td>Solteiro</td>\n",
       "      <td>Casa</td>\n",
       "      <td>26</td>\n",
       "      <td>6.602740</td>\n",
       "      <td>1.0</td>\n",
       "      <td>8060.34</td>\n",
       "    </tr>\n",
       "    <tr>\n",
       "      <th>1</th>\n",
       "      <td>False</td>\n",
       "      <td>True</td>\n",
       "      <td>True</td>\n",
       "      <td>0</td>\n",
       "      <td>Assalariado</td>\n",
       "      <td>Superior completo</td>\n",
       "      <td>Casado</td>\n",
       "      <td>Casa</td>\n",
       "      <td>28</td>\n",
       "      <td>7.183562</td>\n",
       "      <td>2.0</td>\n",
       "      <td>1852.15</td>\n",
       "    </tr>\n",
       "    <tr>\n",
       "      <th>2</th>\n",
       "      <td>True</td>\n",
       "      <td>True</td>\n",
       "      <td>True</td>\n",
       "      <td>0</td>\n",
       "      <td>Empresário</td>\n",
       "      <td>Superior completo</td>\n",
       "      <td>Casado</td>\n",
       "      <td>Casa</td>\n",
       "      <td>35</td>\n",
       "      <td>0.838356</td>\n",
       "      <td>2.0</td>\n",
       "      <td>2253.89</td>\n",
       "    </tr>\n",
       "    <tr>\n",
       "      <th>3</th>\n",
       "      <td>True</td>\n",
       "      <td>False</td>\n",
       "      <td>True</td>\n",
       "      <td>1</td>\n",
       "      <td>Servidor público</td>\n",
       "      <td>Superior completo</td>\n",
       "      <td>Casado</td>\n",
       "      <td>Casa</td>\n",
       "      <td>30</td>\n",
       "      <td>4.846575</td>\n",
       "      <td>3.0</td>\n",
       "      <td>6600.77</td>\n",
       "    </tr>\n",
       "    <tr>\n",
       "      <th>4</th>\n",
       "      <td>False</td>\n",
       "      <td>True</td>\n",
       "      <td>False</td>\n",
       "      <td>0</td>\n",
       "      <td>Assalariado</td>\n",
       "      <td>Secundário</td>\n",
       "      <td>Solteiro</td>\n",
       "      <td>Governamental</td>\n",
       "      <td>33</td>\n",
       "      <td>4.293151</td>\n",
       "      <td>1.0</td>\n",
       "      <td>6475.97</td>\n",
       "    </tr>\n",
       "  </tbody>\n",
       "</table>\n",
       "</div>"
      ],
      "text/plain": [
       "    sexo  posse_de_veiculo  posse_de_imovel  qtd_filhos        tipo_renda  \\\n",
       "0   True             False             True           0        Empresário   \n",
       "1  False              True             True           0       Assalariado   \n",
       "2   True              True             True           0        Empresário   \n",
       "3   True             False             True           1  Servidor público   \n",
       "4  False              True            False           0       Assalariado   \n",
       "\n",
       "            educacao estado_civil tipo_residencia  idade  tempo_emprego  \\\n",
       "0         Secundário     Solteiro            Casa     26       6.602740   \n",
       "1  Superior completo       Casado            Casa     28       7.183562   \n",
       "2  Superior completo       Casado            Casa     35       0.838356   \n",
       "3  Superior completo       Casado            Casa     30       4.846575   \n",
       "4         Secundário     Solteiro   Governamental     33       4.293151   \n",
       "\n",
       "   qt_pessoas_residencia    renda  \n",
       "0                    1.0  8060.34  \n",
       "1                    2.0  1852.15  \n",
       "2                    2.0  2253.89  \n",
       "3                    3.0  6600.77  \n",
       "4                    1.0  6475.97  "
      ]
     },
     "execution_count": 11,
     "metadata": {},
     "output_type": "execute_result"
    }
   ],
   "source": [
    "renda.sexo = renda.sexo.map({'F': 1, 'M':0})\n",
    "renda['sexo'] = renda['sexo'].astype(bool)\n",
    "renda.head(5)"
   ]
  },
  {
   "cell_type": "code",
   "execution_count": 12,
   "metadata": {},
   "outputs": [
    {
     "name": "stdout",
     "output_type": "stream",
     "text": [
      "<class 'pandas.core.frame.DataFrame'>\n",
      "Int64Index: 12427 entries, 0 to 14999\n",
      "Data columns (total 12 columns):\n",
      " #   Column                 Non-Null Count  Dtype  \n",
      "---  ------                 --------------  -----  \n",
      " 0   sexo                   12427 non-null  bool   \n",
      " 1   posse_de_veiculo       12427 non-null  bool   \n",
      " 2   posse_de_imovel        12427 non-null  bool   \n",
      " 3   qtd_filhos             12427 non-null  int64  \n",
      " 4   tipo_renda             12427 non-null  object \n",
      " 5   educacao               12427 non-null  object \n",
      " 6   estado_civil           12427 non-null  object \n",
      " 7   tipo_residencia        12427 non-null  object \n",
      " 8   idade                  12427 non-null  int64  \n",
      " 9   tempo_emprego          12427 non-null  float64\n",
      " 10  qt_pessoas_residencia  12427 non-null  float64\n",
      " 11  renda                  12427 non-null  float64\n",
      "dtypes: bool(3), float64(3), int64(2), object(4)\n",
      "memory usage: 1007.3+ KB\n"
     ]
    }
   ],
   "source": [
    "renda.info()"
   ]
  },
  {
   "cell_type": "markdown",
   "metadata": {},
   "source": [
    "Agora temos nossa base tratada e pronta para a Etapa 4: Modelagem"
   ]
  },
  {
   "cell_type": "markdown",
   "metadata": {},
   "source": [
    "## Etapa 4 Crisp-DM: Modelagem\n",
    "Nessa etapa que realizaremos a construção do modelo. Os passos típicos são:\n",
    "- Selecionar a técnica de modelagem\n",
    "- Desenho do teste\n",
    "- Avaliação do modelo\n"
   ]
  },
  {
   "cell_type": "markdown",
   "metadata": {},
   "source": [
    "<span style=\"color:black\">Vamos utilizar um modelo de regressão múltipla explicar a renda de cada indivíduo e qual das variáveis que padronizamos anteriormente é mais influente.</span>\n"
   ]
  },
  {
   "cell_type": "markdown",
   "metadata": {},
   "source": [
    "### Rodando o modelo\n"
   ]
  },
  {
   "cell_type": "markdown",
   "metadata": {},
   "source": [
    "<span style=\"color:black\">Vamos importar as bibliotecas que utilizaremos.</span>\n"
   ]
  },
  {
   "cell_type": "code",
   "execution_count": 18,
   "metadata": {},
   "outputs": [],
   "source": [
    "import statsmodels.formula.api as smf\n",
    "import statsmodels.api as sm\n",
    "import patsy\n",
    "import numpy as np"
   ]
  },
  {
   "cell_type": "code",
   "execution_count": 15,
   "metadata": {},
   "outputs": [
    {
     "data": {
      "text/plain": [
       "DesignMatrix with shape (12427, 18)\n",
       "  Columns:\n",
       "    ['Intercept',\n",
       "     'C(sexo)[T.True]',\n",
       "     'C(posse_de_veiculo)[T.True]',\n",
       "     'C(posse_de_imovel)[T.True]',\n",
       "     'C(tipo_renda)[T.Bolsista]',\n",
       "     'C(tipo_renda)[T.Empresário]',\n",
       "     'C(tipo_renda)[T.Pensionista]',\n",
       "     'C(tipo_renda)[T.Servidor público]',\n",
       "     'C(educacao)[T.Pós graduação]',\n",
       "     'C(educacao)[T.Secundário]',\n",
       "     'C(educacao)[T.Superior completo]',\n",
       "     'C(educacao)[T.Superior incompleto]',\n",
       "     'C(tipo_residencia)[T.Casa]',\n",
       "     'C(tipo_residencia)[T.Com os pais]',\n",
       "     'C(tipo_residencia)[T.Comunitário]',\n",
       "     'C(tipo_residencia)[T.Estúdio]',\n",
       "     'C(tipo_residencia)[T.Governamental]',\n",
       "     'tempo_emprego']\n",
       "  Terms:\n",
       "    'Intercept' (column 0)\n",
       "    'C(sexo)' (column 1)\n",
       "    'C(posse_de_veiculo)' (column 2)\n",
       "    'C(posse_de_imovel)' (column 3)\n",
       "    'C(tipo_renda)' (columns 4:8)\n",
       "    'C(educacao)' (columns 8:12)\n",
       "    'C(tipo_residencia)' (columns 12:17)\n",
       "    'tempo_emprego' (column 17)\n",
       "  (to view full data, use np.asarray(this_obj))"
      ]
     },
     "execution_count": 15,
     "metadata": {},
     "output_type": "execute_result"
    }
   ],
   "source": [
    "y, x = patsy.dmatrices('renda ~ C(sexo) + C(posse_de_veiculo) + C(posse_de_imovel) + C(tipo_renda) + C(educacao) + C(tipo_residencia) + tempo_emprego', data = renda)\n",
    "x"
   ]
  },
  {
   "cell_type": "code",
   "execution_count": 16,
   "metadata": {},
   "outputs": [
    {
     "data": {
      "text/html": [
       "<table class=\"simpletable\">\n",
       "<caption>OLS Regression Results</caption>\n",
       "<tr>\n",
       "  <th>Dep. Variable:</th>          <td>renda</td>      <th>  R-squared:         </th>  <td>   0.254</td>  \n",
       "</tr>\n",
       "<tr>\n",
       "  <th>Model:</th>                   <td>OLS</td>       <th>  Adj. R-squared:    </th>  <td>   0.253</td>  \n",
       "</tr>\n",
       "<tr>\n",
       "  <th>Method:</th>             <td>Least Squares</td>  <th>  F-statistic:       </th>  <td>   248.6</td>  \n",
       "</tr>\n",
       "<tr>\n",
       "  <th>Date:</th>             <td>Wed, 03 May 2023</td> <th>  Prob (F-statistic):</th>   <td>  0.00</td>   \n",
       "</tr>\n",
       "<tr>\n",
       "  <th>Time:</th>                 <td>20:27:43</td>     <th>  Log-Likelihood:    </th> <td>-1.2881e+05</td>\n",
       "</tr>\n",
       "<tr>\n",
       "  <th>No. Observations:</th>      <td> 12427</td>      <th>  AIC:               </th>  <td>2.576e+05</td> \n",
       "</tr>\n",
       "<tr>\n",
       "  <th>Df Residuals:</th>          <td> 12409</td>      <th>  BIC:               </th>  <td>2.578e+05</td> \n",
       "</tr>\n",
       "<tr>\n",
       "  <th>Df Model:</th>              <td>    17</td>      <th>                     </th>      <td> </td>     \n",
       "</tr>\n",
       "<tr>\n",
       "  <th>Covariance Type:</th>      <td>nonrobust</td>    <th>                     </th>      <td> </td>     \n",
       "</tr>\n",
       "</table>\n",
       "<table class=\"simpletable\">\n",
       "<tr>\n",
       "                   <td></td>                      <th>coef</th>     <th>std err</th>      <th>t</th>      <th>P>|t|</th>  <th>[0.025</th>    <th>0.975]</th>  \n",
       "</tr>\n",
       "<tr>\n",
       "  <th>Intercept</th>                           <td> 4183.8621</td> <td>  954.118</td> <td>    4.385</td> <td> 0.000</td> <td> 2313.643</td> <td> 6054.081</td>\n",
       "</tr>\n",
       "<tr>\n",
       "  <th>C(sexo)[T.True]</th>                     <td>-6017.6181</td> <td>  154.447</td> <td>  -38.962</td> <td> 0.000</td> <td>-6320.358</td> <td>-5714.878</td>\n",
       "</tr>\n",
       "<tr>\n",
       "  <th>C(posse_de_veiculo)[T.True]</th>         <td>   62.3748</td> <td>  149.006</td> <td>    0.419</td> <td> 0.676</td> <td> -229.700</td> <td>  354.449</td>\n",
       "</tr>\n",
       "<tr>\n",
       "  <th>C(posse_de_imovel)[T.True]</th>          <td>  426.8623</td> <td>  148.197</td> <td>    2.880</td> <td> 0.004</td> <td>  136.374</td> <td>  717.351</td>\n",
       "</tr>\n",
       "<tr>\n",
       "  <th>C(tipo_renda)[T.Bolsista]</th>           <td> -959.6053</td> <td> 2566.110</td> <td>   -0.374</td> <td> 0.708</td> <td>-5989.579</td> <td> 4070.368</td>\n",
       "</tr>\n",
       "<tr>\n",
       "  <th>C(tipo_renda)[T.Empresário]</th>         <td>  768.9837</td> <td>  158.488</td> <td>    4.852</td> <td> 0.000</td> <td>  458.323</td> <td> 1079.644</td>\n",
       "</tr>\n",
       "<tr>\n",
       "  <th>C(tipo_renda)[T.Pensionista]</th>        <td>-3148.1162</td> <td> 2564.328</td> <td>   -1.228</td> <td> 0.220</td> <td>-8174.597</td> <td> 1878.365</td>\n",
       "</tr>\n",
       "<tr>\n",
       "  <th>C(tipo_renda)[T.Servidor público]</th>   <td>  123.2882</td> <td>  236.425</td> <td>    0.521</td> <td> 0.602</td> <td> -340.141</td> <td>  586.717</td>\n",
       "</tr>\n",
       "<tr>\n",
       "  <th>C(educacao)[T.Pós graduação]</th>        <td> 1215.9270</td> <td> 1690.272</td> <td>    0.719</td> <td> 0.472</td> <td>-2097.268</td> <td> 4529.122</td>\n",
       "</tr>\n",
       "<tr>\n",
       "  <th>C(educacao)[T.Secundário]</th>           <td>  733.4671</td> <td>  765.356</td> <td>    0.958</td> <td> 0.338</td> <td> -766.750</td> <td> 2233.685</td>\n",
       "</tr>\n",
       "<tr>\n",
       "  <th>C(educacao)[T.Superior completo]</th>    <td> 1266.4903</td> <td>  768.386</td> <td>    1.648</td> <td> 0.099</td> <td> -239.666</td> <td> 2772.647</td>\n",
       "</tr>\n",
       "<tr>\n",
       "  <th>C(educacao)[T.Superior incompleto]</th>  <td>   64.9701</td> <td>  826.369</td> <td>    0.079</td> <td> 0.937</td> <td>-1554.842</td> <td> 1684.782</td>\n",
       "</tr>\n",
       "<tr>\n",
       "  <th>C(tipo_residencia)[T.Casa]</th>          <td>  -79.8724</td> <td>  574.730</td> <td>   -0.139</td> <td> 0.889</td> <td>-1206.433</td> <td> 1046.688</td>\n",
       "</tr>\n",
       "<tr>\n",
       "  <th>C(tipo_residencia)[T.Com os pais]</th>   <td> -405.3223</td> <td>  641.706</td> <td>   -0.632</td> <td> 0.528</td> <td>-1663.165</td> <td>  852.520</td>\n",
       "</tr>\n",
       "<tr>\n",
       "  <th>C(tipo_residencia)[T.Comunitário]</th>   <td> -141.0064</td> <td> 1120.304</td> <td>   -0.126</td> <td> 0.900</td> <td>-2336.976</td> <td> 2054.964</td>\n",
       "</tr>\n",
       "<tr>\n",
       "  <th>C(tipo_residencia)[T.Estúdio]</th>       <td>  360.0755</td> <td> 1055.916</td> <td>    0.341</td> <td> 0.733</td> <td>-1709.684</td> <td> 2429.835</td>\n",
       "</tr>\n",
       "<tr>\n",
       "  <th>C(tipo_residencia)[T.Governamental]</th> <td>  376.1808</td> <td>  700.516</td> <td>    0.537</td> <td> 0.591</td> <td> -996.939</td> <td> 1749.300</td>\n",
       "</tr>\n",
       "<tr>\n",
       "  <th>tempo_emprego</th>                       <td>  570.7606</td> <td>   10.553</td> <td>   54.086</td> <td> 0.000</td> <td>  550.075</td> <td>  591.446</td>\n",
       "</tr>\n",
       "</table>\n",
       "<table class=\"simpletable\">\n",
       "<tr>\n",
       "  <th>Omnibus:</th>       <td>17571.964</td> <th>  Durbin-Watson:     </th>  <td>   2.032</td>  \n",
       "</tr>\n",
       "<tr>\n",
       "  <th>Prob(Omnibus):</th>  <td> 0.000</td>   <th>  Jarque-Bera (JB):  </th> <td>9880668.493</td>\n",
       "</tr>\n",
       "<tr>\n",
       "  <th>Skew:</th>           <td> 8.128</td>   <th>  Prob(JB):          </th>  <td>    0.00</td>  \n",
       "</tr>\n",
       "<tr>\n",
       "  <th>Kurtosis:</th>       <td>140.179</td>  <th>  Cond. No.          </th>  <td>    385.</td>  \n",
       "</tr>\n",
       "</table><br/><br/>Notes:<br/>[1] Standard Errors assume that the covariance matrix of the errors is correctly specified."
      ],
      "text/plain": [
       "<class 'statsmodels.iolib.summary.Summary'>\n",
       "\"\"\"\n",
       "                            OLS Regression Results                            \n",
       "==============================================================================\n",
       "Dep. Variable:                  renda   R-squared:                       0.254\n",
       "Model:                            OLS   Adj. R-squared:                  0.253\n",
       "Method:                 Least Squares   F-statistic:                     248.6\n",
       "Date:                Wed, 03 May 2023   Prob (F-statistic):               0.00\n",
       "Time:                        20:27:43   Log-Likelihood:            -1.2881e+05\n",
       "No. Observations:               12427   AIC:                         2.576e+05\n",
       "Df Residuals:                   12409   BIC:                         2.578e+05\n",
       "Df Model:                          17                                         \n",
       "Covariance Type:            nonrobust                                         \n",
       "=======================================================================================================\n",
       "                                          coef    std err          t      P>|t|      [0.025      0.975]\n",
       "-------------------------------------------------------------------------------------------------------\n",
       "Intercept                            4183.8621    954.118      4.385      0.000    2313.643    6054.081\n",
       "C(sexo)[T.True]                     -6017.6181    154.447    -38.962      0.000   -6320.358   -5714.878\n",
       "C(posse_de_veiculo)[T.True]            62.3748    149.006      0.419      0.676    -229.700     354.449\n",
       "C(posse_de_imovel)[T.True]            426.8623    148.197      2.880      0.004     136.374     717.351\n",
       "C(tipo_renda)[T.Bolsista]            -959.6053   2566.110     -0.374      0.708   -5989.579    4070.368\n",
       "C(tipo_renda)[T.Empresário]           768.9837    158.488      4.852      0.000     458.323    1079.644\n",
       "C(tipo_renda)[T.Pensionista]        -3148.1162   2564.328     -1.228      0.220   -8174.597    1878.365\n",
       "C(tipo_renda)[T.Servidor público]     123.2882    236.425      0.521      0.602    -340.141     586.717\n",
       "C(educacao)[T.Pós graduação]         1215.9270   1690.272      0.719      0.472   -2097.268    4529.122\n",
       "C(educacao)[T.Secundário]             733.4671    765.356      0.958      0.338    -766.750    2233.685\n",
       "C(educacao)[T.Superior completo]     1266.4903    768.386      1.648      0.099    -239.666    2772.647\n",
       "C(educacao)[T.Superior incompleto]     64.9701    826.369      0.079      0.937   -1554.842    1684.782\n",
       "C(tipo_residencia)[T.Casa]            -79.8724    574.730     -0.139      0.889   -1206.433    1046.688\n",
       "C(tipo_residencia)[T.Com os pais]    -405.3223    641.706     -0.632      0.528   -1663.165     852.520\n",
       "C(tipo_residencia)[T.Comunitário]    -141.0064   1120.304     -0.126      0.900   -2336.976    2054.964\n",
       "C(tipo_residencia)[T.Estúdio]         360.0755   1055.916      0.341      0.733   -1709.684    2429.835\n",
       "C(tipo_residencia)[T.Governamental]   376.1808    700.516      0.537      0.591    -996.939    1749.300\n",
       "tempo_emprego                         570.7606     10.553     54.086      0.000     550.075     591.446\n",
       "==============================================================================\n",
       "Omnibus:                    17571.964   Durbin-Watson:                   2.032\n",
       "Prob(Omnibus):                  0.000   Jarque-Bera (JB):          9880668.493\n",
       "Skew:                           8.128   Prob(JB):                         0.00\n",
       "Kurtosis:                     140.179   Cond. No.                         385.\n",
       "==============================================================================\n",
       "\n",
       "Notes:\n",
       "[1] Standard Errors assume that the covariance matrix of the errors is correctly specified.\n",
       "\"\"\""
      ]
     },
     "execution_count": 16,
     "metadata": {},
     "output_type": "execute_result"
    }
   ],
   "source": [
    "sm.OLS(y, x).fit().summary()"
   ]
  },
  {
   "cell_type": "code",
   "execution_count": 19,
   "metadata": {},
   "outputs": [
    {
     "data": {
      "text/html": [
       "<table class=\"simpletable\">\n",
       "<caption>OLS Regression Results</caption>\n",
       "<tr>\n",
       "  <th>Dep. Variable:</th>      <td>np.log(renda)</td>  <th>  R-squared:         </th> <td>   0.350</td> \n",
       "</tr>\n",
       "<tr>\n",
       "  <th>Model:</th>                   <td>OLS</td>       <th>  Adj. R-squared:    </th> <td>   0.350</td> \n",
       "</tr>\n",
       "<tr>\n",
       "  <th>Method:</th>             <td>Least Squares</td>  <th>  F-statistic:       </th> <td>   837.5</td> \n",
       "</tr>\n",
       "<tr>\n",
       "  <th>Date:</th>             <td>Wed, 03 May 2023</td> <th>  Prob (F-statistic):</th>  <td>  0.00</td>  \n",
       "</tr>\n",
       "<tr>\n",
       "  <th>Time:</th>                 <td>20:30:18</td>     <th>  Log-Likelihood:    </th> <td> -13635.</td> \n",
       "</tr>\n",
       "<tr>\n",
       "  <th>No. Observations:</th>      <td> 12427</td>      <th>  AIC:               </th> <td>2.729e+04</td>\n",
       "</tr>\n",
       "<tr>\n",
       "  <th>Df Residuals:</th>          <td> 12418</td>      <th>  BIC:               </th> <td>2.736e+04</td>\n",
       "</tr>\n",
       "<tr>\n",
       "  <th>Df Model:</th>              <td>     8</td>      <th>                     </th>     <td> </td>    \n",
       "</tr>\n",
       "<tr>\n",
       "  <th>Covariance Type:</th>      <td>nonrobust</td>    <th>                     </th>     <td> </td>    \n",
       "</tr>\n",
       "</table>\n",
       "<table class=\"simpletable\">\n",
       "<tr>\n",
       "                  <td></td>                     <th>coef</th>     <th>std err</th>      <th>t</th>      <th>P>|t|</th>  <th>[0.025</th>    <th>0.975]</th>  \n",
       "</tr>\n",
       "<tr>\n",
       "  <th>Intercept</th>                         <td>    8.1307</td> <td>    0.018</td> <td>  444.916</td> <td> 0.000</td> <td>    8.095</td> <td>    8.167</td>\n",
       "</tr>\n",
       "<tr>\n",
       "  <th>C(sexo)[T.True]</th>                   <td>   -0.7726</td> <td>    0.015</td> <td>  -53.266</td> <td> 0.000</td> <td>   -0.801</td> <td>   -0.744</td>\n",
       "</tr>\n",
       "<tr>\n",
       "  <th>C(posse_de_veiculo)[T.True]</th>       <td>    0.0509</td> <td>    0.014</td> <td>    3.632</td> <td> 0.000</td> <td>    0.023</td> <td>    0.078</td>\n",
       "</tr>\n",
       "<tr>\n",
       "  <th>C(posse_de_imovel)[T.True]</th>        <td>    0.0943</td> <td>    0.014</td> <td>    6.890</td> <td> 0.000</td> <td>    0.067</td> <td>    0.121</td>\n",
       "</tr>\n",
       "<tr>\n",
       "  <th>C(tipo_renda)[T.Bolsista]</th>         <td>    0.3204</td> <td>    0.242</td> <td>    1.324</td> <td> 0.186</td> <td>   -0.154</td> <td>    0.795</td>\n",
       "</tr>\n",
       "<tr>\n",
       "  <th>C(tipo_renda)[T.Empresário]</th>       <td>    0.1578</td> <td>    0.015</td> <td>   10.612</td> <td> 0.000</td> <td>    0.129</td> <td>    0.187</td>\n",
       "</tr>\n",
       "<tr>\n",
       "  <th>C(tipo_renda)[T.Pensionista]</th>      <td>   -0.2945</td> <td>    0.242</td> <td>   -1.218</td> <td> 0.223</td> <td>   -0.769</td> <td>    0.180</td>\n",
       "</tr>\n",
       "<tr>\n",
       "  <th>C(tipo_renda)[T.Servidor público]</th> <td>    0.0749</td> <td>    0.022</td> <td>    3.376</td> <td> 0.001</td> <td>    0.031</td> <td>    0.118</td>\n",
       "</tr>\n",
       "<tr>\n",
       "  <th>tempo_emprego</th>                     <td>    0.0637</td> <td>    0.001</td> <td>   64.233</td> <td> 0.000</td> <td>    0.062</td> <td>    0.066</td>\n",
       "</tr>\n",
       "</table>\n",
       "<table class=\"simpletable\">\n",
       "<tr>\n",
       "  <th>Omnibus:</th>       <td> 0.878</td> <th>  Durbin-Watson:     </th> <td>   2.022</td>\n",
       "</tr>\n",
       "<tr>\n",
       "  <th>Prob(Omnibus):</th> <td> 0.645</td> <th>  Jarque-Bera (JB):  </th> <td>   0.846</td>\n",
       "</tr>\n",
       "<tr>\n",
       "  <th>Skew:</th>          <td> 0.015</td> <th>  Prob(JB):          </th> <td>   0.655</td>\n",
       "</tr>\n",
       "<tr>\n",
       "  <th>Kurtosis:</th>      <td> 3.026</td> <th>  Cond. No.          </th> <td>    383.</td>\n",
       "</tr>\n",
       "</table><br/><br/>Notes:<br/>[1] Standard Errors assume that the covariance matrix of the errors is correctly specified."
      ],
      "text/plain": [
       "<class 'statsmodels.iolib.summary.Summary'>\n",
       "\"\"\"\n",
       "                            OLS Regression Results                            \n",
       "==============================================================================\n",
       "Dep. Variable:          np.log(renda)   R-squared:                       0.350\n",
       "Model:                            OLS   Adj. R-squared:                  0.350\n",
       "Method:                 Least Squares   F-statistic:                     837.5\n",
       "Date:                Wed, 03 May 2023   Prob (F-statistic):               0.00\n",
       "Time:                        20:30:18   Log-Likelihood:                -13635.\n",
       "No. Observations:               12427   AIC:                         2.729e+04\n",
       "Df Residuals:                   12418   BIC:                         2.736e+04\n",
       "Df Model:                           8                                         \n",
       "Covariance Type:            nonrobust                                         \n",
       "=====================================================================================================\n",
       "                                        coef    std err          t      P>|t|      [0.025      0.975]\n",
       "-----------------------------------------------------------------------------------------------------\n",
       "Intercept                             8.1307      0.018    444.916      0.000       8.095       8.167\n",
       "C(sexo)[T.True]                      -0.7726      0.015    -53.266      0.000      -0.801      -0.744\n",
       "C(posse_de_veiculo)[T.True]           0.0509      0.014      3.632      0.000       0.023       0.078\n",
       "C(posse_de_imovel)[T.True]            0.0943      0.014      6.890      0.000       0.067       0.121\n",
       "C(tipo_renda)[T.Bolsista]             0.3204      0.242      1.324      0.186      -0.154       0.795\n",
       "C(tipo_renda)[T.Empresário]           0.1578      0.015     10.612      0.000       0.129       0.187\n",
       "C(tipo_renda)[T.Pensionista]         -0.2945      0.242     -1.218      0.223      -0.769       0.180\n",
       "C(tipo_renda)[T.Servidor público]     0.0749      0.022      3.376      0.001       0.031       0.118\n",
       "tempo_emprego                         0.0637      0.001     64.233      0.000       0.062       0.066\n",
       "==============================================================================\n",
       "Omnibus:                        0.878   Durbin-Watson:                   2.022\n",
       "Prob(Omnibus):                  0.645   Jarque-Bera (JB):                0.846\n",
       "Skew:                           0.015   Prob(JB):                        0.655\n",
       "Kurtosis:                       3.026   Cond. No.                         383.\n",
       "==============================================================================\n",
       "\n",
       "Notes:\n",
       "[1] Standard Errors assume that the covariance matrix of the errors is correctly specified.\n",
       "\"\"\""
      ]
     },
     "execution_count": 19,
     "metadata": {},
     "output_type": "execute_result"
    }
   ],
   "source": [
    "y, x = patsy.dmatrices('np.log(renda) ~ C(sexo) + C(posse_de_veiculo) + C(posse_de_imovel) + C(tipo_renda)  + tempo_emprego', data = renda)\n",
    "sm.OLS(y, x).fit().summary()"
   ]
  },
  {
   "cell_type": "markdown",
   "metadata": {},
   "source": [
    "## Etapa 5 Crisp-DM: Avaliação dos resultados\n"
   ]
  },
  {
   "cell_type": "markdown",
   "metadata": {},
   "source": [
    "Utilizando os recursos do Patsy para avaliar os parâmetros e ver o que faz sentido. \n",
    "Note que passamos as variáveis qualitativas como dummies."
   ]
  },
  {
   "cell_type": "markdown",
   "metadata": {},
   "source": [
    "Após rodar o primeiro modelo, eliminamos as váriavéis tipo_residencia e educacao e colocaremos o valor da renda em log.\n",
    "Resultou em um modelo com um r² melhor."
   ]
  },
  {
   "cell_type": "markdown",
   "metadata": {},
   "source": [
    "## Etapa 6 Crisp-DM: Implantação\n",
    "\n",
    "Vamos construir uma árvore de decisão, que irá predizer se a pessoa terá uma renda > 15000 ou > 10000 ou < 5000"
   ]
  },
  {
   "cell_type": "code",
   "execution_count": null,
   "metadata": {},
   "outputs": [],
   "source": [
    "from sklearn.model_selection import train_test_split\n",
    "from sklearn.tree import DecisionTreeClassifier\n",
    "from sklearn.metrics import accuracy_score"
   ]
  },
  {
   "cell_type": "markdown",
   "metadata": {},
   "source": [
    "Vamos criar uma nova coluna na DataFrame renda para indicar se a renda é maior que 5000, 10000 ou 15000."
   ]
  },
  {
   "cell_type": "code",
   "execution_count": 39,
   "metadata": {},
   "outputs": [],
   "source": [
    "renda['renda_alta'] = np.where(renda['renda'] > 15000, 2, np.where(renda['renda'] > 10000, 1, np.where(renda['renda'] > 5000, 0, -1)))"
   ]
  },
  {
   "cell_type": "markdown",
   "metadata": {},
   "source": [
    "Agora as matrizes x e y a partir da nova coluna criada e das variáveis explicativas"
   ]
  },
  {
   "cell_type": "code",
   "execution_count": 40,
   "metadata": {},
   "outputs": [],
   "source": [
    "y, x = patsy.dmatrices('renda_alta ~ C(sexo) + C(posse_de_veiculo) + C(posse_de_imovel) + C(tipo_renda) + tempo_emprego', data=renda)"
   ]
  },
  {
   "cell_type": "markdown",
   "metadata": {},
   "source": [
    "Vamos dividir o conjunto de dados em conjuntos de treinamento e teste"
   ]
  },
  {
   "cell_type": "code",
   "execution_count": 41,
   "metadata": {},
   "outputs": [],
   "source": [
    "from sklearn.model_selection import train_test_split\n",
    "\n",
    "x_treino, x_teste, y_treino, y_teste = train_test_split(x, y, test_size=0.3, random_state=1)"
   ]
  },
  {
   "cell_type": "markdown",
   "metadata": {},
   "source": [
    "Vamos agora criar o modelo de árvore de decisão"
   ]
  },
  {
   "cell_type": "code",
   "execution_count": 42,
   "metadata": {},
   "outputs": [
    {
     "data": {
      "text/html": [
       "<style>#sk-container-id-3 {color: black;background-color: white;}#sk-container-id-3 pre{padding: 0;}#sk-container-id-3 div.sk-toggleable {background-color: white;}#sk-container-id-3 label.sk-toggleable__label {cursor: pointer;display: block;width: 100%;margin-bottom: 0;padding: 0.3em;box-sizing: border-box;text-align: center;}#sk-container-id-3 label.sk-toggleable__label-arrow:before {content: \"▸\";float: left;margin-right: 0.25em;color: #696969;}#sk-container-id-3 label.sk-toggleable__label-arrow:hover:before {color: black;}#sk-container-id-3 div.sk-estimator:hover label.sk-toggleable__label-arrow:before {color: black;}#sk-container-id-3 div.sk-toggleable__content {max-height: 0;max-width: 0;overflow: hidden;text-align: left;background-color: #f0f8ff;}#sk-container-id-3 div.sk-toggleable__content pre {margin: 0.2em;color: black;border-radius: 0.25em;background-color: #f0f8ff;}#sk-container-id-3 input.sk-toggleable__control:checked~div.sk-toggleable__content {max-height: 200px;max-width: 100%;overflow: auto;}#sk-container-id-3 input.sk-toggleable__control:checked~label.sk-toggleable__label-arrow:before {content: \"▾\";}#sk-container-id-3 div.sk-estimator input.sk-toggleable__control:checked~label.sk-toggleable__label {background-color: #d4ebff;}#sk-container-id-3 div.sk-label input.sk-toggleable__control:checked~label.sk-toggleable__label {background-color: #d4ebff;}#sk-container-id-3 input.sk-hidden--visually {border: 0;clip: rect(1px 1px 1px 1px);clip: rect(1px, 1px, 1px, 1px);height: 1px;margin: -1px;overflow: hidden;padding: 0;position: absolute;width: 1px;}#sk-container-id-3 div.sk-estimator {font-family: monospace;background-color: #f0f8ff;border: 1px dotted black;border-radius: 0.25em;box-sizing: border-box;margin-bottom: 0.5em;}#sk-container-id-3 div.sk-estimator:hover {background-color: #d4ebff;}#sk-container-id-3 div.sk-parallel-item::after {content: \"\";width: 100%;border-bottom: 1px solid gray;flex-grow: 1;}#sk-container-id-3 div.sk-label:hover label.sk-toggleable__label {background-color: #d4ebff;}#sk-container-id-3 div.sk-serial::before {content: \"\";position: absolute;border-left: 1px solid gray;box-sizing: border-box;top: 0;bottom: 0;left: 50%;z-index: 0;}#sk-container-id-3 div.sk-serial {display: flex;flex-direction: column;align-items: center;background-color: white;padding-right: 0.2em;padding-left: 0.2em;position: relative;}#sk-container-id-3 div.sk-item {position: relative;z-index: 1;}#sk-container-id-3 div.sk-parallel {display: flex;align-items: stretch;justify-content: center;background-color: white;position: relative;}#sk-container-id-3 div.sk-item::before, #sk-container-id-3 div.sk-parallel-item::before {content: \"\";position: absolute;border-left: 1px solid gray;box-sizing: border-box;top: 0;bottom: 0;left: 50%;z-index: -1;}#sk-container-id-3 div.sk-parallel-item {display: flex;flex-direction: column;z-index: 1;position: relative;background-color: white;}#sk-container-id-3 div.sk-parallel-item:first-child::after {align-self: flex-end;width: 50%;}#sk-container-id-3 div.sk-parallel-item:last-child::after {align-self: flex-start;width: 50%;}#sk-container-id-3 div.sk-parallel-item:only-child::after {width: 0;}#sk-container-id-3 div.sk-dashed-wrapped {border: 1px dashed gray;margin: 0 0.4em 0.5em 0.4em;box-sizing: border-box;padding-bottom: 0.4em;background-color: white;}#sk-container-id-3 div.sk-label label {font-family: monospace;font-weight: bold;display: inline-block;line-height: 1.2em;}#sk-container-id-3 div.sk-label-container {text-align: center;}#sk-container-id-3 div.sk-container {/* jupyter's `normalize.less` sets `[hidden] { display: none; }` but bootstrap.min.css set `[hidden] { display: none !important; }` so we also need the `!important` here to be able to override the default hidden behavior on the sphinx rendered scikit-learn.org. See: https://github.com/scikit-learn/scikit-learn/issues/21755 */display: inline-block !important;position: relative;}#sk-container-id-3 div.sk-text-repr-fallback {display: none;}</style><div id=\"sk-container-id-3\" class=\"sk-top-container\"><div class=\"sk-text-repr-fallback\"><pre>DecisionTreeClassifier(max_depth=3)</pre><b>In a Jupyter environment, please rerun this cell to show the HTML representation or trust the notebook. <br />On GitHub, the HTML representation is unable to render, please try loading this page with nbviewer.org.</b></div><div class=\"sk-container\" hidden><div class=\"sk-item\"><div class=\"sk-estimator sk-toggleable\"><input class=\"sk-toggleable__control sk-hidden--visually\" id=\"sk-estimator-id-3\" type=\"checkbox\" checked><label for=\"sk-estimator-id-3\" class=\"sk-toggleable__label sk-toggleable__label-arrow\">DecisionTreeClassifier</label><div class=\"sk-toggleable__content\"><pre>DecisionTreeClassifier(max_depth=3)</pre></div></div></div></div></div>"
      ],
      "text/plain": [
       "DecisionTreeClassifier(max_depth=3)"
      ]
     },
     "execution_count": 42,
     "metadata": {},
     "output_type": "execute_result"
    }
   ],
   "source": [
    "from sklearn.tree import DecisionTreeClassifier\n",
    "\n",
    "arvore = DecisionTreeClassifier(max_depth=3)\n",
    "arvore.fit(x_treino, y_treino)"
   ]
  },
  {
   "cell_type": "markdown",
   "metadata": {},
   "source": [
    "Vamos avaliar o desempenho do modelo"
   ]
  },
  {
   "cell_type": "code",
   "execution_count": 71,
   "metadata": {},
   "outputs": [
    {
     "name": "stdout",
     "output_type": "stream",
     "text": [
      "A Acurácia do nosso modelo de árvore é de: 65.27%\n"
     ]
    }
   ],
   "source": [
    "acuracia = arvore.score(x_teste, y_teste)\n",
    "print(f\"A Acurácia do nosso modelo de árvore é de: {acuracia*100:.2f}%\")"
   ]
  },
  {
   "cell_type": "markdown",
   "metadata": {},
   "source": [
    "Agora, para finalizar vamos plotar a árvore."
   ]
  },
  {
   "cell_type": "code",
   "execution_count": 69,
   "metadata": {},
   "outputs": [
    {
     "data": {
      "image/png": "[encoded data removed]",
      "text/plain": [
       "<Figure size 1080x720 with 1 Axes>"
      ]
     },
     "metadata": {
      "needs_background": "light"
     },
     "output_type": "display_data"
    }
   ],
   "source": [
    "from sklearn.tree import plot_tree\n",
    "\n",
    "plt.figure(figsize=(15, 10))\n",
    "plot_tree(arvore, feature_names=x.design_info.column_names, filled=True, rounded=True)\n",
    "plt.show()"
   ]
  }
 ],
 "metadata": {
  "kernelspec": {
   "display_name": "Python 3 (ipykernel)",
   "language": "python",
   "name": "python3"
  },
  "language_info": {
   "codemirror_mode": {
    "name": "ipython",
    "version": 3
   },
   "file_extension": ".py",
   "mimetype": "text/x-python",
   "name": "python",
   "nbconvert_exporter": "python",
   "pygments_lexer": "ipython3",
   "version": "3.9.7"
  },
  "varInspector": {
   "cols": {
    "lenName": 16,
    "lenType": 16,
    "lenVar": 40
   },
   "kernels_config": {
    "python": {
     "delete_cmd_postfix": "",
     "delete_cmd_prefix": "del ",
     "library": "var_list.py",
     "varRefreshCmd": "print(var_dic_list())"
    },
    "r": {
     "delete_cmd_postfix": ") ",
     "delete_cmd_prefix": "rm(",
     "library": "var_list.r",
     "varRefreshCmd": "cat(var_dic_list()) "
    }
   },
   "types_to_exclude": [
    "module",
    "function",
    "builtin_function_or_method",
    "instance",
    "_Feature"
   ],
   "window_display": false
  }
 },
 "nbformat": 4,
 "nbformat_minor": 4
}
